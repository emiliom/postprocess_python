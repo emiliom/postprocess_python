{
 "cells": [
  {
   "cell_type": "code",
   "execution_count": 2,
   "metadata": {},
   "outputs": [
    {
     "name": "stdout",
     "output_type": "stream",
     "text": [
      "All packages imported successfully\n"
     ]
    }
   ],
   "source": [
    "##############  Grads to Geotiff  Script   #################################\n",
    "# Copyright Ryan L. Crumley, 2019\n",
    "# ryanlcrumley@gmail.com\n",
    "\n",
    "# Description: This script takes matfiles and writes a geotiff from each file. It uses numpy arrays and \n",
    "# GDAL to create the Geotiff.\n",
    "\n",
    "# Import all of the python packages used in this workflow.\n",
    "import scipy\n",
    "import numpy as np\n",
    "import matplotlib.pyplot as plt\n",
    "import os, sys\n",
    "from pylab import *\n",
    "import pandas as pd\n",
    "import numpy as np\n",
    "import gdal\n",
    "import osr\n",
    "import scipy.io as sio\n",
    "from os import listdir\n",
    "import csv\n",
    "print('All packages imported successfully')\n",
    "\n",
    "# Define some things for use in the script.\n",
    "year = '2017'\n",
    "#year = '2018'\n",
    "\n",
    "# Define the grid size in x and y values\n",
    "nx = 2570\n",
    "ny = 2480\n",
    "\n"
   ]
  },
  {
   "cell_type": "code",
   "execution_count": 3,
   "metadata": {},
   "outputs": [
    {
     "name": "stdout",
     "output_type": "stream",
     "text": [
      "Mat_to_Array is ready\n"
     ]
    }
   ],
   "source": [
    "########### MAT_TO_ARRAY Function ########################## \n",
    "# This function reads in a matfile and turns it into a numpy array.\n",
    "\n",
    "def mat_to_array(filename,nx,ny):\n",
    "    \n",
    "    # Load the mat contents to a numpy array using scipy file io\n",
    "    mat_contents = sio.loadmat(filename)\n",
    "    # Only load the variable that you care about\n",
    "    numpy_data = mat_contents['swe_depth']\n",
    "    # Return the results of the numpy array\n",
    "    return numpy_data\n",
    "\n",
    "print('Mat_to_Array is ready')"
   ]
  },
  {
   "cell_type": "code",
   "execution_count": 4,
   "metadata": {},
   "outputs": [
    {
     "name": "stdout",
     "output_type": "stream",
     "text": [
      "Array_to_Geotiff is ready\n"
     ]
    }
   ],
   "source": [
    "############# ARRAY_TO_GEOTIFF Function #######################\n",
    "\n",
    "# This function takes the data from a single numpy array and turns it into a geotiff.\n",
    "# The numpy arrays get used later.\n",
    "\n",
    "def array_to_geotiff(filename,width,height,numpy_array):\n",
    "    \n",
    "    ######## USER INPUT SECTION ##################\n",
    "    # Define some things about your model domain\n",
    "    upper_left_x = 404791\n",
    "    x_resolution = 30\n",
    "    x_skew = 0\n",
    "    upper_left_y = 1243170\n",
    "    y_skew = 0\n",
    "    y_resolution = 30\n",
    "    #################################################\n",
    "    \n",
    "    # Reference the correct geotiff driver in GDAL\n",
    "    driver = gdal.GetDriverByName(\"GTiff\")\n",
    "    \n",
    "    # Begin to set the correct spatial reference to the data\n",
    "    datasetSRS = osr.SpatialReference()\n",
    "    \n",
    "    ##############  USER INPUT SECTION   ############\n",
    "    # Define the CRS using the EPSG code or your choice\n",
    "    datasetSRS.ImportFromEPSG(3338)\n",
    "    ##################################################\n",
    "    \n",
    "    # This creates the initial raster dataset. The 4th argument (1) is the number of bands in the input dataset.\n",
    "    dataset = driver.Create(filename, width, height, 1, gdal.GDT_Float32)\n",
    "    \n",
    "    # Set the projection give the geotiff the correct spatial location as previously defined \n",
    "    dataset.SetGeoTransform((upper_left_x, x_resolution, x_skew, upper_left_y, y_skew, y_resolution))\n",
    "    dataset.SetProjection(datasetSRS.ExportToWkt())\n",
    "    \n",
    "    # Create the output dataset from with one band\n",
    "    outband = dataset.GetRasterBand(1)\n",
    "    # This is the numpy array from the input dataset \n",
    "    outband.WriteArray(numpy_array)\n",
    "    # This took me a bit to figure out, but there needs to be a Flush Cache call here in order for this to work,\n",
    "    outband.FlushCache()  \n",
    "    \n",
    "    \n",
    "print('Array_to_Geotiff is ready')"
   ]
  },
  {
   "cell_type": "code",
   "execution_count": 5,
   "metadata": {},
   "outputs": [
    {
     "name": "stdout",
     "output_type": "stream",
     "text": [
      "....working on file 2017 swed_timeslice\n"
     ]
    }
   ],
   "source": [
    "#singlefilename = 'woAssim_2017_calibrated_swed-slice.mat'\n",
    "singlefilename = 'swed_timeslice.mat'\n",
    "\n",
    "# Pull in the mat files from the folder one by one and change them to numpy arrays.\n",
    "data_array = mat_to_array(singlefilename,nx,ny)\n",
    "\n",
    "# Change the filename a bit.\n",
    "shortname = singlefilename[0:-4]\n",
    "output_filename = year+'_'+shortname+'.tif'\n",
    "    \n",
    "# Turn the numpy arrays into geotiffs and save in the geotiffs folder.\n",
    "array_to_geotiff('geotiffs/'+output_filename,nx,ny,data_array)\n",
    "    \n",
    "# Print out some stuff\n",
    "print('....working on file '+year+' '+shortname)"
   ]
  }
 ],
 "metadata": {
  "kernelspec": {
   "display_name": "Python 3",
   "language": "python",
   "name": "python3"
  },
  "language_info": {
   "codemirror_mode": {
    "name": "ipython",
    "version": 3
   },
   "file_extension": ".py",
   "mimetype": "text/x-python",
   "name": "python",
   "nbconvert_exporter": "python",
   "pygments_lexer": "ipython3",
   "version": "3.7.4"
  }
 },
 "nbformat": 4,
 "nbformat_minor": 2
}
