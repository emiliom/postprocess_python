{
 "cells": [
  {
   "cell_type": "markdown",
   "metadata": {},
   "source": [
    "# Extract SWE data from SnowModel output and export to NetCDF\n",
    "3/18-16/2020. Emilio"
   ]
  },
  {
   "cell_type": "markdown",
   "metadata": {},
   "source": [
    "## From Nina\n",
    "\n",
    "Possible tracking parameters:\n",
    "\n",
    "1. Total daily water volume by watershed\n",
    "    - could be aggregated to monthly resolution for GRACE \n",
    "2. Total daily change in water volume by watershed classified by:\n",
    "    - Elevation \n",
    "    - Aspect \n",
    "    - Slope \n",
    "    - Landcover \n",
    "3. PDFs and CDFs of SWE change by watershed\n",
    "4. Watershed hypsometry \n",
    "5. Watershed SWE hypsometry \n",
    "6. Percent snow covered area by watershed \n",
    "    - Could compare to MODIS-derived daily snow covered area\n",
    "7. Considering there may not be a ‘best’ calibration/assimilation run, with different parameters performing better at certain SNOTEL stations, we could select the top 3-5 combinations of parameters to create a SWE ensemble. Visual would be a time series of the uncertainty in daily SWE based off an ensemble of parameters or assimilation combinations"
   ]
  },
  {
   "cell_type": "markdown",
   "metadata": {},
   "source": [
    "## MinIO\n",
    "- https://docs.min.io/docs/minio-quickstart-guide.html\n",
    "- https://docs.min.io/docs/minio-docker-quickstart-guide\n",
    "- https://blog.alexellis.io/meet-minio/\n",
    "- See the other links I entered into RedNotebook, 3/10/2020 "
   ]
  },
  {
   "cell_type": "markdown",
   "metadata": {},
   "source": [
    "### References for NetCDF CF/ACDD conventions\n",
    "- https://www.nodc.noaa.gov/data/formats/netcdf/v2.0/\n",
    "- https://www.nodc.noaa.gov/data/formats/netcdf/v2.0/grid.cdl\n",
    "\n",
    "### Strategies, TO-DOs\n",
    "- **IMMEDIATE:** Something is wrong! SWE values are coming out as spanning both negative and positive values. But that doesn't make sense (negative depths?), and more importantly the values in Nina's plots are all positive. Could this be related to byte order (big/small endian)? **Also** need to confirm more directly that the map plots are correct and not transposed or wrong in other ways\n",
    "    - https://en.wikipedia.org/wiki/Endianness. It looks like most common platforms these days are little endian\n",
    "    - https://www.gamedev.net/forums/topic/688000-safe-to-say-all-are-in-little-endian-nowadays/5339764/\n",
    "    - https://www.bignerdranch.com/blog/its-the-endian-of-the-world-as-we-know-it/\n",
    "- Plan to create a set of netcdf files segmented by time, say, one per year, with the file name encoding the time slice. eg, `swed_gdat_2014.nc`. \n",
    "- That series files can then be opened with `xarray.open_mfdataset`, which uses lazy loading (!).\n",
    "- Alternatively, later, it may be more practical to read the binary data in the same time segments, and write to zarr instead if such writing allows for concatenation along the time dimension\n",
    "- DONE. Add dimension variables (time, x, y), with corresponding attributes.\n",
    "- Add more global attributes, including ones matching with CF conventions.\n",
    "- Add more variable attributes, including CF standard name"
   ]
  },
  {
   "cell_type": "code",
   "execution_count": 1,
   "metadata": {},
   "outputs": [],
   "source": [
    "import os\n",
    "from collections import OrderedDict\n",
    "\n",
    "import numpy as np\n",
    "import pandas as pd\n",
    "import xarray as xr\n",
    "\n",
    "import matplotlib.pyplot as plt\n",
    "%matplotlib inline"
   ]
  },
  {
   "cell_type": "markdown",
   "metadata": {},
   "source": [
    "## Parameters defining the XYT dimensions, file name, etc"
   ]
  },
  {
   "cell_type": "code",
   "execution_count": 2,
   "metadata": {},
   "outputs": [],
   "source": [
    "##USER INPUTS## - most of this can be read directly from the .ctl file or the .par file \n",
    "#-> need to read in text file\n",
    "\n",
    "# model filename\n",
    "inFile = 'swed.gdat'\n",
    "\n",
    "# start date\n",
    "st = \"2014-10-01\"\n",
    "# end date\n",
    "ed = \"2019-09-29\"\n",
    "# number of timesteps in model run \n",
    "num_mod_timesteps = 365 * 5\n",
    "\n",
    "# from .ctl file\n",
    "nx = 1382 # number of cells in the x dimension?\n",
    "ny = 2476 # number of cells in the y dimension?\n",
    "xll = 487200\n",
    "yll = 4690100\n",
    "clsz = 100 # cellsize?"
   ]
  },
  {
   "cell_type": "code",
   "execution_count": 3,
   "metadata": {},
   "outputs": [],
   "source": [
    "#Build lat/lon array \n",
    "lon = np.arange(xll, xll+nx*clsz, clsz)\n",
    "lat = np.arange(yll, yll+ny*clsz, clsz)"
   ]
  },
  {
   "cell_type": "code",
   "execution_count": 4,
   "metadata": {},
   "outputs": [
    {
     "data": {
      "text/plain": [
       "(1382, 2476, 3421832)"
      ]
     },
     "execution_count": 4,
     "metadata": {},
     "output_type": "execute_result"
    }
   ],
   "source": [
    "len(lon), len(lat), len(lon)*len(lat)"
   ]
  },
  {
   "cell_type": "markdown",
   "metadata": {},
   "source": [
    "## Check file size vs dimensions"
   ]
  },
  {
   "cell_type": "code",
   "execution_count": 5,
   "metadata": {},
   "outputs": [],
   "source": [
    "filesize_bytes = os.path.getsize(inFile)"
   ]
  },
  {
   "cell_type": "code",
   "execution_count": 6,
   "metadata": {},
   "outputs": [
    {
     "data": {
      "text/plain": [
       "(24979373600, 23)"
      ]
     },
     "execution_count": 6,
     "metadata": {},
     "output_type": "execute_result"
    }
   ],
   "source": [
    "# file size in bytes and GB's (using bit shift)\n",
    "filesize_bytes, filesize_bytes >> 30"
   ]
  },
  {
   "cell_type": "code",
   "execution_count": 7,
   "metadata": {},
   "outputs": [
    {
     "data": {
      "text/plain": [
       "True"
      ]
     },
     "execution_count": 7,
     "metadata": {},
     "output_type": "execute_result"
    }
   ],
   "source": [
    "# confirm that dimensions match file size\n",
    "# 32 bit (4 byte) floating point data\n",
    "4 * num_mod_timesteps * (len(lon)*len(lat)) == filesize_bytes"
   ]
  },
  {
   "cell_type": "markdown",
   "metadata": {},
   "source": [
    "## Read only a small portion of the file, for testing\n",
    "I can't read it all at once b/c it's larger than my available laptop memory (23 GB vs 15.4 GB)"
   ]
  },
  {
   "cell_type": "markdown",
   "metadata": {},
   "source": [
    "**Notes about `np.fromfile`:**\n",
    "\n",
    "- Do not rely on the combination of `tofile` and `fromfile` for data storage, as the binary files generated are not platform independent.  In particular, no byte-order or data-type information is saved.  Data can be stored in the platform independent ``.npy`` format using `save` and `load` instead.\n",
    "- `count : int.` Number of items to read. ``-1`` means all items (i.e., the complete file)."
   ]
  },
  {
   "cell_type": "code",
   "execution_count": 8,
   "metadata": {},
   "outputs": [],
   "source": [
    "nxy = len(lon)*len(lat)\n",
    "nts = 10 # number of time steps to read"
   ]
  },
  {
   "cell_type": "code",
   "execution_count": 9,
   "metadata": {},
   "outputs": [
    {
     "data": {
      "text/plain": [
       "(10, 2476, 1382)"
      ]
     },
     "execution_count": 9,
     "metadata": {},
     "output_type": "execute_result"
    }
   ],
   "source": [
    "# open grads model output file into a numpy array \n",
    "with open(inFile, 'rb') as gradsfile:\n",
    "    numpy_data = np.fromfile(inFile, dtype='float32', count=nts*nxy)\n",
    "    numpy_data = np.reshape(numpy_data, (nts, ny, nx))\n",
    "\n",
    "numpy_data.shape"
   ]
  },
  {
   "cell_type": "markdown",
   "metadata": {},
   "source": [
    "NOTE: \"lat\" and \"lon\" actually look like Northing and Easting. Per Nina's notebook:\n",
    "```python\n",
    "mod_proj = 'epsg:32612' # UTM zone 12N\n",
    "```"
   ]
  },
  {
   "cell_type": "code",
   "execution_count": 10,
   "metadata": {},
   "outputs": [],
   "source": [
    "# Test byte swapping (changing endian order)\n",
    "# numpy_data = numpy_data.byteswap(False)\n",
    "# NOPE, didn't make things better"
   ]
  },
  {
   "cell_type": "markdown",
   "metadata": {},
   "source": [
    "## Create xarray DataArray, including some variable attributes"
   ]
  },
  {
   "cell_type": "code",
   "execution_count": 11,
   "metadata": {},
   "outputs": [],
   "source": [
    "time = pd.date_range(st, periods=nts) # periods=num_mod_timesteps"
   ]
  },
  {
   "cell_type": "code",
   "execution_count": 12,
   "metadata": {},
   "outputs": [
    {
     "data": {
      "text/plain": [
       "DatetimeIndex(['2014-10-01', '2014-10-02', '2014-10-03', '2014-10-04',\n",
       "               '2014-10-05', '2014-10-06', '2014-10-07', '2014-10-08',\n",
       "               '2014-10-09', '2014-10-10'],\n",
       "              dtype='datetime64[ns]', freq='D')"
      ]
     },
     "execution_count": 12,
     "metadata": {},
     "output_type": "execute_result"
    }
   ],
   "source": [
    "time"
   ]
  },
  {
   "cell_type": "code",
   "execution_count": 13,
   "metadata": {},
   "outputs": [],
   "source": [
    "# convert to xarray DataArray\n",
    "swe = xr.DataArray(\n",
    "    numpy_data,\n",
    "    dims=('time', 'y', 'x'), \n",
    "    coords={'time': time, 'y': lat, 'x': lon}\n",
    ")"
   ]
  },
  {
   "cell_type": "markdown",
   "metadata": {},
   "source": [
    "DataArray at this point has no attributes at all. Add attributes like name, units, etc."
   ]
  },
  {
   "cell_type": "code",
   "execution_count": 14,
   "metadata": {},
   "outputs": [],
   "source": [
    "swe.attrs['long_name'] = 'Snow Water Equivalent'\n",
    "swe.attrs['standard_name'] = 'lwe_thickness_of_surface_snow_amount'\n",
    "swe.attrs['units'] = 'meters'"
   ]
  },
  {
   "cell_type": "code",
   "execution_count": 15,
   "metadata": {},
   "outputs": [
    {
     "data": {
      "image/png": "[encoded data removed]",
      "text/plain": [
       "<Figure size 1008x432 with 4 Axes>"
      ]
     },
     "metadata": {
      "needs_background": "light"
     },
     "output_type": "display_data"
    }
   ],
   "source": [
    "fig, ax = plt.subplots(1, 2, figsize=(14, 6))\n",
    "swe[1,:,:].plot(ax=ax[0])\n",
    "swe[-1,:,:].plot(ax=ax[1]);"
   ]
  },
  {
   "cell_type": "markdown",
   "metadata": {},
   "source": [
    "## Create xarray Dataset"
   ]
  },
  {
   "cell_type": "code",
   "execution_count": 16,
   "metadata": {},
   "outputs": [],
   "source": [
    "d = OrderedDict()\n",
    "d['time'] = ('time', time)\n",
    "d['x'] = ('x', lon)\n",
    "d['y'] = ('y', lat)\n",
    "d['swe'] = swe\n",
    "\n",
    "ds = xr.Dataset(d)"
   ]
  },
  {
   "cell_type": "markdown",
   "metadata": {},
   "source": [
    "Add global and variable attributes"
   ]
  },
  {
   "cell_type": "code",
   "execution_count": 17,
   "metadata": {},
   "outputs": [],
   "source": [
    "# Switch to using a dictionary (OrderdDict) to populate attributes\n",
    "\n",
    "ds.attrs['description'] = \"SnowModel model run, SWE variable only\"\n",
    "ds.attrs['CRS'] = \"UTM Zone 12N, EPSG:32612\"\n",
    "\n",
    "ds.time.attrs['standard_name'] = \"time\"\n",
    "ds.time.attrs['axis'] = \"T\"\n",
    "\n",
    "ds.x.attrs['long_name'] = \"Easting\"\n",
    "ds.x.attrs['units'] = \"meters\"\n",
    "ds.x.attrs['axis'] = \"X\"\n",
    "\n",
    "ds.y.attrs['long_name'] = \"Northing\"\n",
    "ds.y.attrs['units'] = \"meters\"\n",
    "ds.y.attrs['axis'] = \"Y\""
   ]
  },
  {
   "cell_type": "code",
   "execution_count": 18,
   "metadata": {},
   "outputs": [
    {
     "data": {
      "text/html": [
       "<pre>&lt;xarray.Dataset&gt;\n",
       "Dimensions:  (time: 10, x: 1382, y: 2476)\n",
       "Coordinates:\n",
       "  * time     (time) datetime64[ns] 2014-10-01 2014-10-02 ... 2014-10-10\n",
       "  * x        (x) int64 487200 487300 487400 487500 ... 625100 625200 625300\n",
       "  * y        (y) int64 4690100 4690200 4690300 ... 4937400 4937500 4937600\n",
       "Data variables:\n",
       "    swe      (time, y, x) float32 0.0 0.0 0.0 0.0 0.0 ... 0.0 0.0 0.0 0.0 0.0\n",
       "Attributes:\n",
       "    description:  SnowModel model run, SWE variable only\n",
       "    CRS:          UTM Zone 12N, EPSG:32612</pre>"
      ],
      "text/plain": [
       "<xarray.Dataset>\n",
       "Dimensions:  (time: 10, x: 1382, y: 2476)\n",
       "Coordinates:\n",
       "  * time     (time) datetime64[ns] 2014-10-01 2014-10-02 ... 2014-10-10\n",
       "  * x        (x) int64 487200 487300 487400 487500 ... 625100 625200 625300\n",
       "  * y        (y) int64 4690100 4690200 4690300 ... 4937400 4937500 4937600\n",
       "Data variables:\n",
       "    swe      (time, y, x) float32 0.0 0.0 0.0 0.0 0.0 ... 0.0 0.0 0.0 0.0 0.0\n",
       "Attributes:\n",
       "    description:  SnowModel model run, SWE variable only\n",
       "    CRS:          UTM Zone 12N, EPSG:32612"
      ]
     },
     "execution_count": 18,
     "metadata": {},
     "output_type": "execute_result"
    }
   ],
   "source": [
    "ds"
   ]
  },
  {
   "cell_type": "code",
   "execution_count": 19,
   "metadata": {},
   "outputs": [
    {
     "data": {
      "text/plain": [
       "('time', 'y', 'x')"
      ]
     },
     "execution_count": 19,
     "metadata": {},
     "output_type": "execute_result"
    }
   ],
   "source": [
    "ds.swe.dims"
   ]
  },
  {
   "cell_type": "code",
   "execution_count": 20,
   "metadata": {},
   "outputs": [
    {
     "data": {
      "text/plain": [
       "{'long_name': 'Snow Water Equivalent',\n",
       " 'standard_name': 'lwe_thickness_of_surface_snow_amount',\n",
       " 'units': 'meters'}"
      ]
     },
     "execution_count": 20,
     "metadata": {},
     "output_type": "execute_result"
    }
   ],
   "source": [
    "ds.swe.attrs"
   ]
  },
  {
   "cell_type": "markdown",
   "metadata": {},
   "source": [
    "### Export to netcdf"
   ]
  },
  {
   "cell_type": "code",
   "execution_count": 21,
   "metadata": {},
   "outputs": [],
   "source": [
    "ds.to_netcdf('swed_gdat.nc', format='NETCDF4', engine='netcdf4')"
   ]
  },
  {
   "cell_type": "markdown",
   "metadata": {},
   "source": [
    "Verify that the netcdf file looks ok"
   ]
  },
  {
   "cell_type": "code",
   "execution_count": 22,
   "metadata": {},
   "outputs": [
    {
     "data": {
      "text/html": [
       "<pre>&lt;xarray.Dataset&gt;\n",
       "Dimensions:  (time: 10, x: 1382, y: 2476)\n",
       "Coordinates:\n",
       "  * time     (time) datetime64[ns] 2014-10-01 2014-10-02 ... 2014-10-10\n",
       "  * x        (x) int64 487200 487300 487400 487500 ... 625100 625200 625300\n",
       "  * y        (y) int64 4690100 4690200 4690300 ... 4937400 4937500 4937600\n",
       "Data variables:\n",
       "    swe      (time, y, x) float32 ...\n",
       "Attributes:\n",
       "    description:  SnowModel model run, SWE variable only\n",
       "    CRS:          UTM Zone 12N, EPSG:32612</pre>"
      ],
      "text/plain": [
       "<xarray.Dataset>\n",
       "Dimensions:  (time: 10, x: 1382, y: 2476)\n",
       "Coordinates:\n",
       "  * time     (time) datetime64[ns] 2014-10-01 2014-10-02 ... 2014-10-10\n",
       "  * x        (x) int64 487200 487300 487400 487500 ... 625100 625200 625300\n",
       "  * y        (y) int64 4690100 4690200 4690300 ... 4937400 4937500 4937600\n",
       "Data variables:\n",
       "    swe      (time, y, x) float32 ...\n",
       "Attributes:\n",
       "    description:  SnowModel model run, SWE variable only\n",
       "    CRS:          UTM Zone 12N, EPSG:32612"
      ]
     },
     "execution_count": 22,
     "metadata": {},
     "output_type": "execute_result"
    }
   ],
   "source": [
    "ds_read = xr.open_dataset('swed_gdat.nc')\n",
    "ds_read"
   ]
  },
  {
   "cell_type": "code",
   "execution_count": 23,
   "metadata": {},
   "outputs": [
    {
     "name": "stdout",
     "output_type": "stream",
     "text": [
      "netcdf swed_gdat {\n",
      "dimensions:\n",
      "\ttime = 10 ;\n",
      "\tx = 1382 ;\n",
      "\ty = 2476 ;\n",
      "variables:\n",
      "\tint64 time(time) ;\n",
      "\t\ttime:standard_name = \"time\" ;\n",
      "\t\ttime:axis = \"T\" ;\n",
      "\t\ttime:units = \"days since 2014-10-01 00:00:00\" ;\n",
      "\t\ttime:calendar = \"proleptic_gregorian\" ;\n",
      "\tint64 x(x) ;\n",
      "\t\tx:long_name = \"Easting\" ;\n",
      "\t\tx:units = \"meters\" ;\n",
      "\t\tx:axis = \"X\" ;\n",
      "\tint64 y(y) ;\n",
      "\t\ty:long_name = \"Northing\" ;\n",
      "\t\ty:units = \"meters\" ;\n",
      "\t\ty:axis = \"Y\" ;\n",
      "\tfloat swe(time, y, x) ;\n",
      "\t\tswe:_FillValue = NaNf ;\n",
      "\t\tswe:long_name = \"Snow Water Equivalent\" ;\n",
      "\t\tswe:standard_name = \"lwe_thickness_of_surface_snow_amount\" ;\n",
      "\t\tswe:units = \"meters\" ;\n",
      "\n",
      "// global attributes:\n",
      "\t\t:description = \"SnowModel model run, SWE variable only\" ;\n",
      "\t\t:CRS = \"UTM Zone 12N, EPSG:32612\" ;\n",
      "}\n"
     ]
    }
   ],
   "source": [
    "!ncdump -h 'swed_gdat.nc'"
   ]
  },
  {
   "cell_type": "code",
   "execution_count": null,
   "metadata": {},
   "outputs": [],
   "source": []
  }
 ],
 "metadata": {
  "kernelspec": {
   "display_name": "Python [conda env:whwtimeseries]",
   "language": "python",
   "name": "conda-env-whwtimeseries-py"
  },
  "language_info": {
   "codemirror_mode": {
    "name": "ipython",
    "version": 3
   },
   "file_extension": ".py",
   "mimetype": "text/x-python",
   "name": "python",
   "nbconvert_exporter": "python",
   "pygments_lexer": "ipython3",
   "version": "3.6.7"
  }
 },
 "nbformat": 4,
 "nbformat_minor": 4
}
