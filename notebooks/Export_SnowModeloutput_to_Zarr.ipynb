{
 "cells": [
  {
   "cell_type": "markdown",
   "metadata": {},
   "source": [
    "# Extract SWE data from SnowModel output and export to zarr in time increments\n",
    "4/22, 3/31/2020. https://github.com/emiliom\n",
    "\n",
    "This notebook implements a single scheme to export to zarr on either the local file system, MinIO (local S3) or AWS S3, based on user choice (`FS_type` variable)."
   ]
  },
  {
   "cell_type": "markdown",
   "metadata": {},
   "source": [
    "## Notes, background, TO-DOs"
   ]
  },
  {
   "cell_type": "markdown",
   "metadata": {},
   "source": [
    "### Strategies, TO-DOs\n",
    "- *Ongoing.* Add more attributes, to enrich the metadata\n",
    "    - Global attributes, including ones matching with CF conventions.\n",
    "    - Variable attributes, including CF standard name\n",
    "- DONE. Read a portion of the file at a time. I can't read it all at once b/c it's larger than my available laptop memory (23 GB vs 15.4 GB). But instead of first writing to incremental netcdf files, it's more practical to read the binary data in the same time segments, and write to zarr instead, concatenating along the time dimension\n",
    "- DONE. Keeping default `NaN` for `_FillValue`. xrray auto added `'_FillValue': nan` to the `encoding` of the `swe` array. See [xarray #1598](https://github.com/pydata/xarray/issues/1598) and [this](https://cf-trac.llnl.gov/trac/ticket/52) for background discussions. CF/netCDF don't forbid NaN as `_FillValue`. [NCEI NetCDF Template discourages it](https://www.nodc.noaa.gov/data/formats/netcdf/v2.0/faq.html).\n",
    "- DONE. Add dimension variables (time, x, y), with corresponding attributes.\n",
    "- DONE. Create scheme that accepts a specified/desired number of time steps in each time increment (tsubset), and from it generates a new sequence specifying the number of time steps in each increment. The last increment (last sequence element) may have a smaller number of time steps\n",
    "\n",
    "### References for NetCDF CF/ACDD conventions\n",
    "- https://www.nodc.noaa.gov/data/formats/netcdf/v2.0/\n",
    "- https://www.nodc.noaa.gov/data/formats/netcdf/v2.0/grid.cdl"
   ]
  },
  {
   "cell_type": "code",
   "execution_count": 1,
   "metadata": {},
   "outputs": [],
   "source": [
    "from collections import OrderedDict\n",
    "from pathlib import Path\n",
    "import math\n",
    "from datetime import datetime as dt\n",
    "\n",
    "import numpy as np\n",
    "import pandas as pd\n",
    "import xarray as xr\n",
    "import zarr\n",
    "import s3fs\n",
    "\n",
    "import matplotlib.pyplot as plt\n",
    "%matplotlib inline\n",
    "\n",
    "from snowmodelzarrfs import connect_fs, get_zarrstore"
   ]
  },
  {
   "cell_type": "code",
   "execution_count": 2,
   "metadata": {},
   "outputs": [
    {
     "data": {
      "text/plain": [
       "('1.0.3', '0.15.1', '2.4.0', '0.4.0')"
      ]
     },
     "execution_count": 2,
     "metadata": {},
     "output_type": "execute_result"
    }
   ],
   "source": [
    "pd.__version__, xr.__version__, zarr.__version__, s3fs.__version__"
   ]
  },
  {
   "cell_type": "code",
   "execution_count": 3,
   "metadata": {},
   "outputs": [],
   "source": [
    "# base_dpth = Path(\"/usr/mayorgadat/workmain/aarendt/CSO/projectwork/snow_model\")\n",
    "\n",
    "base_dpth = Path(\"../tests\")"
   ]
  },
  {
   "cell_type": "markdown",
   "metadata": {},
   "source": [
    "## Set XYT dimensions and binary blob file name"
   ]
  },
  {
   "cell_type": "code",
   "execution_count": 4,
   "metadata": {},
   "outputs": [],
   "source": [
    "##USER INPUTS## - most of this can be read directly from the .ctl file or the .par file \n",
    "#-> need to read in text file\n",
    "\n",
    "# model filename\n",
    "inFile = 'swed.gdat'\n",
    "\n",
    "# start date\n",
    "st = \"2014-10-01\"\n",
    "# end date\n",
    "ed = \"2019-09-29\"\n",
    "# number of timesteps in model run \n",
    "timesteps = 365 * 5\n",
    "\n",
    "# from .ctl file\n",
    "nx = 1382 # number of cells in the x dimension\n",
    "ny = 2476 # number of cells in the y dimension\n",
    "xll = 487200\n",
    "yll = 4690100\n",
    "clsz = 100 # cellsize"
   ]
  },
  {
   "cell_type": "markdown",
   "metadata": {},
   "source": [
    "## Prepare derived coordinate (XYT) arrays and variables"
   ]
  },
  {
   "cell_type": "code",
   "execution_count": 5,
   "metadata": {},
   "outputs": [],
   "source": [
    "def time_increments(timesteps, target_increments):\n",
    "    nts_increments = [target_increments] * int(timesteps / target_increments)\n",
    "    nts_increments.append(timesteps % target_increments)\n",
    "    nts_increments = np.array(nts_increments)\n",
    "    nts_increment_offsets = nts_increments.cumsum() - nts_increments\n",
    "    \n",
    "    return nts_increments, nts_increment_offsets"
   ]
  },
  {
   "cell_type": "markdown",
   "metadata": {},
   "source": [
    "The geographical projection is UTM Zone 12N, `epsg:32612`"
   ]
  },
  {
   "cell_type": "code",
   "execution_count": 6,
   "metadata": {},
   "outputs": [],
   "source": [
    "# Easting (X) and Northing (Y) arrays\n",
    "easting_x = np.arange(xll, xll+nx*clsz, clsz)\n",
    "northing_y = np.arange(yll, yll+ny*clsz, clsz)"
   ]
  },
  {
   "cell_type": "code",
   "execution_count": 7,
   "metadata": {},
   "outputs": [],
   "source": [
    "time_days = pd.date_range(st, periods=timesteps)"
   ]
  },
  {
   "cell_type": "code",
   "execution_count": 8,
   "metadata": {},
   "outputs": [
    {
     "data": {
      "text/plain": [
       "(1382, 2476, 1825)"
      ]
     },
     "execution_count": 8,
     "metadata": {},
     "output_type": "execute_result"
    }
   ],
   "source": [
    "len(easting_x), len(northing_y), timesteps"
   ]
  },
  {
   "cell_type": "code",
   "execution_count": 9,
   "metadata": {},
   "outputs": [
    {
     "data": {
      "text/plain": [
       "(Timestamp('2014-10-01 00:00:00', freq='D'),\n",
       " Timestamp('2019-09-29 00:00:00', freq='D'))"
      ]
     },
     "execution_count": 9,
     "metadata": {},
     "output_type": "execute_result"
    }
   ],
   "source": [
    "time_days[0], time_days[-1]"
   ]
  },
  {
   "cell_type": "markdown",
   "metadata": {},
   "source": [
    "## Workhorse functions"
   ]
  },
  {
   "cell_type": "code",
   "execution_count": 10,
   "metadata": {},
   "outputs": [],
   "source": [
    "def read_as_xrds_tsubset(fpath, time, y, x, nts, nts_offset=0, minval=0):\n",
    "    \"\"\"open grads model output file and output a \n",
    "    metadata enriched xarray dataset\"\"\"\n",
    "\n",
    "    nx, ny = len(x), len(y)\n",
    "    # count : int. Number of items to read. -1 means all items (i.e., the complete file).\n",
    "    numpy_data = np.fromfile(\n",
    "        fpath, \n",
    "        dtype=np.float32, \n",
    "        count=nts*ny*nx,\n",
    "        offset=4*nts_offset*ny*nx  # offset is in bytes\n",
    "    ).reshape((nts, ny, nx))\n",
    "    # Switching to using valid_min attribute instead\n",
    "    # numpy_data = numpy_data.clip(min=minval)\n",
    "\n",
    "    time_subset = time[nts_offset:nts_offset+nts]\n",
    "\n",
    "    # TODO: Generalize attribute assignements to use a dictionary (or OrderedDict)\n",
    "    #  to be passed to this function\n",
    "\n",
    "    # Convert data to xarray DataArray, then add variable attributes\n",
    "    datavar = xr.DataArray(\n",
    "        numpy_data,\n",
    "        dims=('time', 'y', 'x'), \n",
    "        coords={'time': time_subset, 'y': y, 'x': x}\n",
    "    )\n",
    "    datavar.attrs['long_name'] = 'Snow Water Equivalent'\n",
    "    datavar.attrs['standard_name'] = 'lwe_thickness_of_surface_snow_amount'\n",
    "    datavar.attrs['units'] = 'meters'\n",
    "    datavar.attrs['valid_min'] = float(minval)\n",
    "\n",
    "    ## Create xarray Dataset, including dimension variables\n",
    "    d = OrderedDict()\n",
    "    d['time'] = ('time', time_subset)\n",
    "    d['x'] = ('x', x)\n",
    "    d['y'] = ('y', y)\n",
    "    d['swe'] = datavar\n",
    "    ds = xr.Dataset(d)\n",
    "\n",
    "    # Add global attributes\n",
    "    ds.attrs['description'] = \"SnowModel model run, SWE variable only\"\n",
    "    ds.attrs['CRS'] = \"UTM Zone 12N, EPSG:32612\"\n",
    "\n",
    "    # Add dimension/coordinate variable attributes\n",
    "    ds.time.attrs['standard_name'] = \"time\"\n",
    "    ds.time.attrs['axis'] = \"T\"\n",
    "\n",
    "    ds.x.attrs['long_name'] = \"Easting\"\n",
    "    ds.x.attrs['units'] = \"meters\"\n",
    "    ds.x.attrs['axis'] = \"X\"\n",
    "\n",
    "    ds.y.attrs['long_name'] = \"Northing\"\n",
    "    ds.y.attrs['units'] = \"meters\"\n",
    "    ds.y.attrs['axis'] = \"Y\"\n",
    "    \n",
    "    return ds"
   ]
  },
  {
   "cell_type": "code",
   "execution_count": 11,
   "metadata": {},
   "outputs": [],
   "source": [
    "def ds_increment_to_zarr(fs_type, zarrstore, ds, chunk, is_first=False):\n",
    "    \"\"\"Chunk and export to Zarr\"\"\"\n",
    "    \n",
    "    chunked_ds = ds.chunk(chunk)\n",
    "    \n",
    "    compute = False if fs_type.endswith('s3') else True\n",
    "    if is_first:\n",
    "        store = chunked_ds.to_zarr(\n",
    "            store=zarrstore,\n",
    "            mode='w',\n",
    "            consolidated=True,\n",
    "            compute=compute\n",
    "        )\n",
    "    else:\n",
    "        store = chunked_ds.to_zarr(\n",
    "            store=zarrstore,\n",
    "            mode='a',\n",
    "            consolidated=True,\n",
    "            append_dim=\"time\",\n",
    "            compute=compute\n",
    "        )\n",
    "    \n",
    "    if fs_type.endswith('s3'):\n",
    "        store.persist(retries=100)"
   ]
  },
  {
   "cell_type": "markdown",
   "metadata": {},
   "source": [
    "## Read binary blob data incrementally and export to Zarr incrementally\n",
    "Iterate over nts_increments and nts_increment_offsets, generate xarray Dataset, and write (write first one, then append) each increment to zarr"
   ]
  },
  {
   "cell_type": "markdown",
   "metadata": {},
   "source": [
    "### Configuration for export to Zarr"
   ]
  },
  {
   "cell_type": "code",
   "execution_count": 12,
   "metadata": {},
   "outputs": [],
   "source": [
    "aws_profile_name = 'cso'\n",
    "\n",
    "# Options: localfs, localminio_s3, aws_s3\n",
    "FS_type, bucket = \"localfs\", \"snowmodel\"\n",
    "\n",
    "# Use -1 to process the entire dataset\n",
    "timesteps_to_process = -1\n",
    "\n",
    "# should nts_target_increment be the same as the chunk time size?\n",
    "\n",
    "# Optimizing for whole-spatial-domain queries\n",
    "# zarrds = \"swe_run_a-geo.zarr\"\n",
    "# nts_target_increment = 4 \n",
    "# chunk = {'time': 4}\n",
    "\n",
    "# Optimizing for cell time-series queries\n",
    "zarrds = \"swe_run_a-ts-xx.zarr\"\n",
    "nts_target_increment = 460\n",
    "chunk = {'time': 460, 'x': 150, 'y': 150}"
   ]
  },
  {
   "cell_type": "markdown",
   "metadata": {},
   "source": [
    "### Execute incremental read and export to Zarr"
   ]
  },
  {
   "cell_type": "code",
   "execution_count": 13,
   "metadata": {},
   "outputs": [
    {
     "data": {
      "text/plain": [
       "(array([460, 460, 445]), array([   0,  460,  920, 1380]))"
      ]
     },
     "execution_count": 13,
     "metadata": {},
     "output_type": "execute_result"
    }
   ],
   "source": [
    "nts_increments, nts_increment_offsets = time_increments(timesteps, nts_target_increment)\n",
    "\n",
    "nts_increments[-3:], nts_increment_offsets"
   ]
  },
  {
   "cell_type": "code",
   "execution_count": 14,
   "metadata": {},
   "outputs": [
    {
     "data": {
      "text/plain": [
       "(1825, 4, 4)"
      ]
     },
     "execution_count": 14,
     "metadata": {},
     "output_type": "execute_result"
    }
   ],
   "source": [
    "len(time_days), len(nts_increments), len(nts_increment_offsets)"
   ]
  },
  {
   "cell_type": "markdown",
   "metadata": {},
   "source": [
    "Generic strategy to export to local zarr, MinIO zarr, or AWS S3 zarr"
   ]
  },
  {
   "cell_type": "code",
   "execution_count": 15,
   "metadata": {},
   "outputs": [],
   "source": [
    "FS = connect_fs(FS_type, aws_profile_name=aws_profile_name)"
   ]
  },
  {
   "cell_type": "code",
   "execution_count": 16,
   "metadata": {},
   "outputs": [],
   "source": [
    "zarrstore = get_zarrstore(FS, FS_type, bucket, zarrds, base_dpth=base_dpth)"
   ]
  },
  {
   "cell_type": "code",
   "execution_count": 17,
   "metadata": {},
   "outputs": [],
   "source": [
    "# if FS_type == 'localfs':\n",
    "#     # Looks like `open_zarr` doesn't accept pathlib Paths, so convert to str\n",
    "#     zarrstore = str(base_dpth / bucket / zarrds)\n",
    "# elif FS_type == 'localminio_s3':\n",
    "#     FS = s3fs.S3FileSystem(\n",
    "#         key='minioadmin',\n",
    "#         secret='minioadmin',\n",
    "#         client_kwargs={\"endpoint_url\": \"http://172.17.0.2:9000\"}\n",
    "#     )\n",
    "#     zarrstore = s3fs.S3Map(f\"{bucket}/{zarrds}\", s3=FS)\n",
    "# elif FS_type == 'aws_s3':\n",
    "#     # Use stored credentials file, ~/.aws/credentials\n",
    "#     # Can also pass the credentials here explicitly via parameters\n",
    "#     # aws_access_key_id and aws_secret_access_key, but that's not safe\n",
    "#     aws_session = boto3.Session(\n",
    "#         profile_name='cso',\n",
    "#         aws_session_token=None,\n",
    "#         region_name='us-west-2'\n",
    "#     )\n",
    "#     FS = s3fs.S3FileSystem(session=aws_session)\n",
    "#     zarrstore = s3fs.S3Map(f\"{bucket}/{zarrds}\", s3=FS)"
   ]
  },
  {
   "cell_type": "code",
   "execution_count": 18,
   "metadata": {},
   "outputs": [
    {
     "name": "stdout",
     "output_type": "stream",
     "text": [
      "2020-04-23T02:30:12Z\n",
      "**** Data increment: index 0 - 459, 2014-10-01 00:00:00 - 2016-01-03 00:00:00\n",
      "CPU times: user 22.1 s, sys: 10.5 s, total: 32.5 s\n",
      "Wall time: 16.5 s\n",
      "**** Data increment: index 460 - 919, 2016-01-04 00:00:00 - 2017-04-07 00:00:00\n",
      "CPU times: user 22.7 s, sys: 6.43 s, total: 29.1 s\n",
      "Wall time: 16.7 s\n",
      "**** Data increment: index 920 - 1379, 2017-04-08 00:00:00 - 2018-07-11 00:00:00\n",
      "CPU times: user 22.8 s, sys: 6.2 s, total: 29 s\n",
      "Wall time: 25.2 s\n",
      "**** Data increment: index 1380 - 1824, 2018-07-12 00:00:00 - 2019-09-29 00:00:00\n",
      "CPU times: user 22.2 s, sys: 5.89 s, total: 28.1 s\n",
      "Wall time: 18.3 s\n",
      "2020-04-23T02:32:39Z\n"
     ]
    }
   ],
   "source": [
    "print(dt.strftime(dt.utcnow(), '%Y-%m-%dT%H:%M:%SZ'))\n",
    "\n",
    "if timesteps_to_process < 0:\n",
    "    nts_increments_to_process = len(nts_increments)\n",
    "else:\n",
    "    # rounds up to the next complete increment, not just the number of timesteps\n",
    "    nts_increments_to_process = math.floor(timesteps_to_process / nts_target_increment + 1)\n",
    "\n",
    "for nts_i in range(nts_increments_to_process):\n",
    "    # Read increment from the binary blob\n",
    "    ds = read_as_xrds_tsubset(base_dpth / inFile, time_days, northing_y, easting_x,\n",
    "                              nts_increments[nts_i], \n",
    "                              nts_offset=nts_increment_offsets[nts_i], \n",
    "                              minval=0)\n",
    "    \n",
    "    print(\n",
    "        \"**** Data increment: index {idx_start} - {idx_end}, {date_start} - {date_end}\".format(\n",
    "            idx_start=nts_increment_offsets[nts_i],\n",
    "            idx_end=nts_increment_offsets[nts_i]+nts_increments[nts_i]-1,\n",
    "            date_start=time_days[nts_increment_offsets[nts_i]],\n",
    "            date_end=time_days[nts_increment_offsets[nts_i]+nts_increments[nts_i]-1]\n",
    "        )\n",
    "    )\n",
    "    \n",
    "    # Export increment to zarr\n",
    "    # print(dt.strftime(dt.utcnow(), '%Y-%m-%dT%H:%M:%SZ'))\n",
    "    is_first = True if nts_i == 0 else False        \n",
    "    %time ds_increment_to_zarr(FS_type, zarrstore, ds, chunk, is_first)\n",
    "    \n",
    "print(dt.strftime(dt.utcnow(), '%Y-%m-%dT%H:%M:%SZ'))"
   ]
  },
  {
   "cell_type": "markdown",
   "metadata": {},
   "source": [
    "### Processing times for writing the whole 25 GB dataset to zarr\n",
    "- **To zarr on AWS**\n",
    "    - 3/31: 94 minutes, using `model_increment = 460` and `chunk= {'time': 460, 'x': 150, 'y': 150}`. Increments were 20-23 min.\n",
    "    - 3/31: 4 hr 32 min, using `model_increment = 4` and `chunk= {'time': 4}`. Increments were 5 - 57 secs\n",
    "- **To zarr on local file system**\n",
    "    - 3/30 7:30pm: 2 min, using `chunk = {'time': 400, 'x': 200, 'y': 200}`. Each increment took 7.7 - 15 seconds. The size of the chunk files is 5 - 45 MB"
   ]
  },
  {
   "cell_type": "markdown",
   "metadata": {},
   "source": [
    "## Read zarr dataset back, for verification"
   ]
  },
  {
   "cell_type": "code",
   "execution_count": 19,
   "metadata": {},
   "outputs": [],
   "source": [
    "zds = xr.open_zarr(\n",
    "    store=zarrstore, \n",
    "    consolidated=True\n",
    ")"
   ]
  },
  {
   "cell_type": "code",
   "execution_count": 20,
   "metadata": {},
   "outputs": [
    {
     "data": {
      "text/html": [
       "<div><svg style=\"position: absolute; width: 0; height: 0; overflow: hidden\">\n",
       "<defs>\n",
       "<symbol id=\"icon-database\" viewBox=\"0 0 32 32\">\n",
       "<title>Show/Hide data repr</title>\n",
       "<path d=\"M16 0c-8.837 0-16 2.239-16 5v4c0 2.761 7.163 5 16 5s16-2.239 16-5v-4c0-2.761-7.163-5-16-5z\"></path>\n",
       "<path d=\"M16 17c-8.837 0-16-2.239-16-5v6c0 2.761 7.163 5 16 5s16-2.239 16-5v-6c0 2.761-7.163 5-16 5z\"></path>\n",
       "<path d=\"M16 26c-8.837 0-16-2.239-16-5v6c0 2.761 7.163 5 16 5s16-2.239 16-5v-6c0 2.761-7.163 5-16 5z\"></path>\n",
       "</symbol>\n",
       "<symbol id=\"icon-file-text2\" viewBox=\"0 0 32 32\">\n",
       "<title>Show/Hide attributes</title>\n",
       "<path d=\"M28.681 7.159c-0.694-0.947-1.662-2.053-2.724-3.116s-2.169-2.030-3.116-2.724c-1.612-1.182-2.393-1.319-2.841-1.319h-15.5c-1.378 0-2.5 1.121-2.5 2.5v27c0 1.378 1.122 2.5 2.5 2.5h23c1.378 0 2.5-1.122 2.5-2.5v-19.5c0-0.448-0.137-1.23-1.319-2.841zM24.543 5.457c0.959 0.959 1.712 1.825 2.268 2.543h-4.811v-4.811c0.718 0.556 1.584 1.309 2.543 2.268zM28 29.5c0 0.271-0.229 0.5-0.5 0.5h-23c-0.271 0-0.5-0.229-0.5-0.5v-27c0-0.271 0.229-0.5 0.5-0.5 0 0 15.499-0 15.5 0v7c0 0.552 0.448 1 1 1h7v19.5z\"></path>\n",
       "<path d=\"M23 26h-14c-0.552 0-1-0.448-1-1s0.448-1 1-1h14c0.552 0 1 0.448 1 1s-0.448 1-1 1z\"></path>\n",
       "<path d=\"M23 22h-14c-0.552 0-1-0.448-1-1s0.448-1 1-1h14c0.552 0 1 0.448 1 1s-0.448 1-1 1z\"></path>\n",
       "<path d=\"M23 18h-14c-0.552 0-1-0.448-1-1s0.448-1 1-1h14c0.552 0 1 0.448 1 1s-0.448 1-1 1z\"></path>\n",
       "</symbol>\n",
       "</defs>\n",
       "</svg>\n",
       "<style>/* CSS stylesheet for displaying xarray objects in jupyterlab.\n",
       " *\n",
       " */\n",
       "\n",
       ":root {\n",
       "  --xr-font-color0: var(--jp-content-font-color0, rgba(0, 0, 0, 1));\n",
       "  --xr-font-color2: var(--jp-content-font-color2, rgba(0, 0, 0, 0.54));\n",
       "  --xr-font-color3: var(--jp-content-font-color3, rgba(0, 0, 0, 0.38));\n",
       "  --xr-border-color: var(--jp-border-color2, #e0e0e0);\n",
       "  --xr-disabled-color: var(--jp-layout-color3, #bdbdbd);\n",
       "  --xr-background-color: var(--jp-layout-color0, white);\n",
       "  --xr-background-color-row-even: var(--jp-layout-color1, white);\n",
       "  --xr-background-color-row-odd: var(--jp-layout-color2, #eeeeee);\n",
       "}\n",
       "\n",
       ".xr-wrap {\n",
       "  min-width: 300px;\n",
       "  max-width: 700px;\n",
       "}\n",
       "\n",
       ".xr-header {\n",
       "  padding-top: 6px;\n",
       "  padding-bottom: 6px;\n",
       "  margin-bottom: 4px;\n",
       "  border-bottom: solid 1px var(--xr-border-color);\n",
       "}\n",
       "\n",
       ".xr-header > div,\n",
       ".xr-header > ul {\n",
       "  display: inline;\n",
       "  margin-top: 0;\n",
       "  margin-bottom: 0;\n",
       "}\n",
       "\n",
       ".xr-obj-type,\n",
       ".xr-array-name {\n",
       "  margin-left: 2px;\n",
       "  margin-right: 10px;\n",
       "}\n",
       "\n",
       ".xr-obj-type {\n",
       "  color: var(--xr-font-color2);\n",
       "}\n",
       "\n",
       ".xr-sections {\n",
       "  padding-left: 0 !important;\n",
       "  display: grid;\n",
       "  grid-template-columns: 150px auto auto 1fr 20px 20px;\n",
       "}\n",
       "\n",
       ".xr-section-item {\n",
       "  display: contents;\n",
       "}\n",
       "\n",
       ".xr-section-item input {\n",
       "  display: none;\n",
       "}\n",
       "\n",
       ".xr-section-item input + label {\n",
       "  color: var(--xr-disabled-color);\n",
       "}\n",
       "\n",
       ".xr-section-item input:enabled + label {\n",
       "  cursor: pointer;\n",
       "  color: var(--xr-font-color2);\n",
       "}\n",
       "\n",
       ".xr-section-item input:enabled + label:hover {\n",
       "  color: var(--xr-font-color0);\n",
       "}\n",
       "\n",
       ".xr-section-summary {\n",
       "  grid-column: 1;\n",
       "  color: var(--xr-font-color2);\n",
       "  font-weight: 500;\n",
       "}\n",
       "\n",
       ".xr-section-summary > span {\n",
       "  display: inline-block;\n",
       "  padding-left: 0.5em;\n",
       "}\n",
       "\n",
       ".xr-section-summary-in:disabled + label {\n",
       "  color: var(--xr-font-color2);\n",
       "}\n",
       "\n",
       ".xr-section-summary-in + label:before {\n",
       "  display: inline-block;\n",
       "  content: '►';\n",
       "  font-size: 11px;\n",
       "  width: 15px;\n",
       "  text-align: center;\n",
       "}\n",
       "\n",
       ".xr-section-summary-in:disabled + label:before {\n",
       "  color: var(--xr-disabled-color);\n",
       "}\n",
       "\n",
       ".xr-section-summary-in:checked + label:before {\n",
       "  content: '▼';\n",
       "}\n",
       "\n",
       ".xr-section-summary-in:checked + label > span {\n",
       "  display: none;\n",
       "}\n",
       "\n",
       ".xr-section-summary,\n",
       ".xr-section-inline-details {\n",
       "  padding-top: 4px;\n",
       "  padding-bottom: 4px;\n",
       "}\n",
       "\n",
       ".xr-section-inline-details {\n",
       "  grid-column: 2 / -1;\n",
       "}\n",
       "\n",
       ".xr-section-details {\n",
       "  display: none;\n",
       "  grid-column: 1 / -1;\n",
       "  margin-bottom: 5px;\n",
       "}\n",
       "\n",
       ".xr-section-summary-in:checked ~ .xr-section-details {\n",
       "  display: contents;\n",
       "}\n",
       "\n",
       ".xr-array-wrap {\n",
       "  grid-column: 1 / -1;\n",
       "  display: grid;\n",
       "  grid-template-columns: 20px auto;\n",
       "}\n",
       "\n",
       ".xr-array-wrap > label {\n",
       "  grid-column: 1;\n",
       "  vertical-align: top;\n",
       "}\n",
       "\n",
       ".xr-preview {\n",
       "  color: var(--xr-font-color3);\n",
       "}\n",
       "\n",
       ".xr-array-preview,\n",
       ".xr-array-data {\n",
       "  padding: 0 5px !important;\n",
       "  grid-column: 2;\n",
       "}\n",
       "\n",
       ".xr-array-data,\n",
       ".xr-array-in:checked ~ .xr-array-preview {\n",
       "  display: none;\n",
       "}\n",
       "\n",
       ".xr-array-in:checked ~ .xr-array-data,\n",
       ".xr-array-preview {\n",
       "  display: inline-block;\n",
       "}\n",
       "\n",
       ".xr-dim-list {\n",
       "  display: inline-block !important;\n",
       "  list-style: none;\n",
       "  padding: 0 !important;\n",
       "  margin: 0;\n",
       "}\n",
       "\n",
       ".xr-dim-list li {\n",
       "  display: inline-block;\n",
       "  padding: 0;\n",
       "  margin: 0;\n",
       "}\n",
       "\n",
       ".xr-dim-list:before {\n",
       "  content: '(';\n",
       "}\n",
       "\n",
       ".xr-dim-list:after {\n",
       "  content: ')';\n",
       "}\n",
       "\n",
       ".xr-dim-list li:not(:last-child):after {\n",
       "  content: ',';\n",
       "  padding-right: 5px;\n",
       "}\n",
       "\n",
       ".xr-has-index {\n",
       "  font-weight: bold;\n",
       "}\n",
       "\n",
       ".xr-var-list,\n",
       ".xr-var-item {\n",
       "  display: contents;\n",
       "}\n",
       "\n",
       ".xr-var-item > div,\n",
       ".xr-var-item label,\n",
       ".xr-var-item > .xr-var-name span {\n",
       "  background-color: var(--xr-background-color-row-even);\n",
       "  margin-bottom: 0;\n",
       "}\n",
       "\n",
       ".xr-var-item > .xr-var-name:hover span {\n",
       "  padding-right: 5px;\n",
       "}\n",
       "\n",
       ".xr-var-list > li:nth-child(odd) > div,\n",
       ".xr-var-list > li:nth-child(odd) > label,\n",
       ".xr-var-list > li:nth-child(odd) > .xr-var-name span {\n",
       "  background-color: var(--xr-background-color-row-odd);\n",
       "}\n",
       "\n",
       ".xr-var-name {\n",
       "  grid-column: 1;\n",
       "}\n",
       "\n",
       ".xr-var-dims {\n",
       "  grid-column: 2;\n",
       "}\n",
       "\n",
       ".xr-var-dtype {\n",
       "  grid-column: 3;\n",
       "  text-align: right;\n",
       "  color: var(--xr-font-color2);\n",
       "}\n",
       "\n",
       ".xr-var-preview {\n",
       "  grid-column: 4;\n",
       "}\n",
       "\n",
       ".xr-var-name,\n",
       ".xr-var-dims,\n",
       ".xr-var-dtype,\n",
       ".xr-preview,\n",
       ".xr-attrs dt {\n",
       "  white-space: nowrap;\n",
       "  overflow: hidden;\n",
       "  text-overflow: ellipsis;\n",
       "  padding-right: 10px;\n",
       "}\n",
       "\n",
       ".xr-var-name:hover,\n",
       ".xr-var-dims:hover,\n",
       ".xr-var-dtype:hover,\n",
       ".xr-attrs dt:hover {\n",
       "  overflow: visible;\n",
       "  width: auto;\n",
       "  z-index: 1;\n",
       "}\n",
       "\n",
       ".xr-var-attrs,\n",
       ".xr-var-data {\n",
       "  display: none;\n",
       "  background-color: var(--xr-background-color) !important;\n",
       "  padding-bottom: 5px !important;\n",
       "}\n",
       "\n",
       ".xr-var-attrs-in:checked ~ .xr-var-attrs,\n",
       ".xr-var-data-in:checked ~ .xr-var-data {\n",
       "  display: block;\n",
       "}\n",
       "\n",
       ".xr-var-data > table {\n",
       "  float: right;\n",
       "}\n",
       "\n",
       ".xr-var-name span,\n",
       ".xr-var-data,\n",
       ".xr-attrs {\n",
       "  padding-left: 25px !important;\n",
       "}\n",
       "\n",
       ".xr-attrs,\n",
       ".xr-var-attrs,\n",
       ".xr-var-data {\n",
       "  grid-column: 1 / -1;\n",
       "}\n",
       "\n",
       "dl.xr-attrs {\n",
       "  padding: 0;\n",
       "  margin: 0;\n",
       "  display: grid;\n",
       "  grid-template-columns: 125px auto;\n",
       "}\n",
       "\n",
       ".xr-attrs dt, dd {\n",
       "  padding: 0;\n",
       "  margin: 0;\n",
       "  float: left;\n",
       "  padding-right: 10px;\n",
       "  width: auto;\n",
       "}\n",
       "\n",
       ".xr-attrs dt {\n",
       "  font-weight: normal;\n",
       "  grid-column: 1;\n",
       "}\n",
       "\n",
       ".xr-attrs dt:hover span {\n",
       "  display: inline-block;\n",
       "  background: var(--xr-background-color);\n",
       "  padding-right: 10px;\n",
       "}\n",
       "\n",
       ".xr-attrs dd {\n",
       "  grid-column: 2;\n",
       "  white-space: pre-wrap;\n",
       "  word-break: break-all;\n",
       "}\n",
       "\n",
       ".xr-icon-database,\n",
       ".xr-icon-file-text2 {\n",
       "  display: inline-block;\n",
       "  vertical-align: middle;\n",
       "  width: 1em;\n",
       "  height: 1.5em !important;\n",
       "  stroke-width: 0;\n",
       "  stroke: currentColor;\n",
       "  fill: currentColor;\n",
       "}\n",
       "</style><div class='xr-wrap'><div class='xr-header'><div class='xr-obj-type'>xarray.Dataset</div></div><ul class='xr-sections'><li class='xr-section-item'><input id='section-aae09ae6-4051-445e-b355-b03c895514f8' class='xr-section-summary-in' type='checkbox' disabled ><label for='section-aae09ae6-4051-445e-b355-b03c895514f8' class='xr-section-summary'  title='Expand/collapse section'>Dimensions:</label><div class='xr-section-inline-details'><ul class='xr-dim-list'><li><span class='xr-has-index'>time</span>: 1825</li><li><span class='xr-has-index'>x</span>: 1382</li><li><span class='xr-has-index'>y</span>: 2476</li></ul></div><div class='xr-section-details'></div></li><li class='xr-section-item'><input id='section-7186c0ab-6819-4058-b45d-e6408105508e' class='xr-section-summary-in' type='checkbox'  checked><label for='section-7186c0ab-6819-4058-b45d-e6408105508e' class='xr-section-summary' >Coordinates: <span>(3)</span></label><div class='xr-section-inline-details'></div><div class='xr-section-details'><ul class='xr-var-list'><li class='xr-var-item'><div class='xr-var-name'><span class='xr-has-index'>time</span></div><div class='xr-var-dims'>(time)</div><div class='xr-var-dtype'>datetime64[ns]</div><div class='xr-var-preview xr-preview'>2014-10-01 ... 2019-09-29</div><input id='attrs-965d5ccb-a528-418e-9cf0-cc0c7a41747e' class='xr-var-attrs-in' type='checkbox' ><label for='attrs-965d5ccb-a528-418e-9cf0-cc0c7a41747e' title='Show/Hide attributes'><svg class='icon xr-icon-file-text2'><use xlink:href='#icon-file-text2'></use></svg></label><input id='data-b96a41fc-453e-4bdb-a20e-ebd5d326a934' class='xr-var-data-in' type='checkbox'><label for='data-b96a41fc-453e-4bdb-a20e-ebd5d326a934' title='Show/Hide data repr'><svg class='icon xr-icon-database'><use xlink:href='#icon-database'></use></svg></label><div class='xr-var-attrs'><dl class='xr-attrs'><dt><span>axis :</span></dt><dd>T</dd><dt><span>standard_name :</span></dt><dd>time</dd></dl></div><pre class='xr-var-data'>array([&#x27;2014-10-01T00:00:00.000000000&#x27;, &#x27;2014-10-02T00:00:00.000000000&#x27;,\n",
       "       &#x27;2014-10-03T00:00:00.000000000&#x27;, ..., &#x27;2019-09-27T00:00:00.000000000&#x27;,\n",
       "       &#x27;2019-09-28T00:00:00.000000000&#x27;, &#x27;2019-09-29T00:00:00.000000000&#x27;],\n",
       "      dtype=&#x27;datetime64[ns]&#x27;)</pre></li><li class='xr-var-item'><div class='xr-var-name'><span class='xr-has-index'>x</span></div><div class='xr-var-dims'>(x)</div><div class='xr-var-dtype'>int64</div><div class='xr-var-preview xr-preview'>487200 487300 ... 625200 625300</div><input id='attrs-b8774839-c933-4173-910f-d3f6bd8c37da' class='xr-var-attrs-in' type='checkbox' ><label for='attrs-b8774839-c933-4173-910f-d3f6bd8c37da' title='Show/Hide attributes'><svg class='icon xr-icon-file-text2'><use xlink:href='#icon-file-text2'></use></svg></label><input id='data-2e7819a7-e720-445a-be1d-f75a9d6698a5' class='xr-var-data-in' type='checkbox'><label for='data-2e7819a7-e720-445a-be1d-f75a9d6698a5' title='Show/Hide data repr'><svg class='icon xr-icon-database'><use xlink:href='#icon-database'></use></svg></label><div class='xr-var-attrs'><dl class='xr-attrs'><dt><span>axis :</span></dt><dd>X</dd><dt><span>long_name :</span></dt><dd>Easting</dd><dt><span>units :</span></dt><dd>meters</dd></dl></div><pre class='xr-var-data'>array([487200, 487300, 487400, ..., 625100, 625200, 625300])</pre></li><li class='xr-var-item'><div class='xr-var-name'><span class='xr-has-index'>y</span></div><div class='xr-var-dims'>(y)</div><div class='xr-var-dtype'>int64</div><div class='xr-var-preview xr-preview'>4690100 4690200 ... 4937500 4937600</div><input id='attrs-5d49f83f-6e12-412a-bbbf-4ea4d441fe63' class='xr-var-attrs-in' type='checkbox' ><label for='attrs-5d49f83f-6e12-412a-bbbf-4ea4d441fe63' title='Show/Hide attributes'><svg class='icon xr-icon-file-text2'><use xlink:href='#icon-file-text2'></use></svg></label><input id='data-8a5fa37b-d53b-4049-988a-3788aa5b80db' class='xr-var-data-in' type='checkbox'><label for='data-8a5fa37b-d53b-4049-988a-3788aa5b80db' title='Show/Hide data repr'><svg class='icon xr-icon-database'><use xlink:href='#icon-database'></use></svg></label><div class='xr-var-attrs'><dl class='xr-attrs'><dt><span>axis :</span></dt><dd>Y</dd><dt><span>long_name :</span></dt><dd>Northing</dd><dt><span>units :</span></dt><dd>meters</dd></dl></div><pre class='xr-var-data'>array([4690100, 4690200, 4690300, ..., 4937400, 4937500, 4937600])</pre></li></ul></div></li><li class='xr-section-item'><input id='section-2bb556a9-0e7e-4d37-8f68-c9de1513a009' class='xr-section-summary-in' type='checkbox'  checked><label for='section-2bb556a9-0e7e-4d37-8f68-c9de1513a009' class='xr-section-summary' >Data variables: <span>(1)</span></label><div class='xr-section-inline-details'></div><div class='xr-section-details'><ul class='xr-var-list'><li class='xr-var-item'><div class='xr-var-name'><span>swe</span></div><div class='xr-var-dims'>(time, y, x)</div><div class='xr-var-dtype'>float32</div><div class='xr-var-preview xr-preview'>dask.array&lt;chunksize=(460, 150, 150), meta=np.ndarray&gt;</div><input id='attrs-075658ee-91a1-4fb9-9655-255a6babafda' class='xr-var-attrs-in' type='checkbox' ><label for='attrs-075658ee-91a1-4fb9-9655-255a6babafda' title='Show/Hide attributes'><svg class='icon xr-icon-file-text2'><use xlink:href='#icon-file-text2'></use></svg></label><input id='data-d73f6337-88de-47c0-9ebb-034d548db215' class='xr-var-data-in' type='checkbox'><label for='data-d73f6337-88de-47c0-9ebb-034d548db215' title='Show/Hide data repr'><svg class='icon xr-icon-database'><use xlink:href='#icon-database'></use></svg></label><div class='xr-var-attrs'><dl class='xr-attrs'><dt><span>long_name :</span></dt><dd>Snow Water Equivalent</dd><dt><span>standard_name :</span></dt><dd>lwe_thickness_of_surface_snow_amount</dd><dt><span>units :</span></dt><dd>meters</dd><dt><span>valid_min :</span></dt><dd>0.0</dd></dl></div><pre class='xr-var-data'><table>\n",
       "<tr>\n",
       "<td>\n",
       "<table>\n",
       "  <thead>\n",
       "    <tr><td> </td><th> Array </th><th> Chunk </th></tr>\n",
       "  </thead>\n",
       "  <tbody>\n",
       "    <tr><th> Bytes </th><td> 24.98 GB </td> <td> 41.40 MB </td></tr>\n",
       "    <tr><th> Shape </th><td> (1825, 2476, 1382) </td> <td> (460, 150, 150) </td></tr>\n",
       "    <tr><th> Count </th><td> 681 Tasks </td><td> 680 Chunks </td></tr>\n",
       "    <tr><th> Type </th><td> float32 </td><td> numpy.ndarray </td></tr>\n",
       "  </tbody>\n",
       "</table>\n",
       "</td>\n",
       "<td>\n",
       "<svg width=\"179\" height=\"222\" style=\"stroke:rgb(0,0,0);stroke-width:1\" >\n",
       "\n",
       "  <!-- Horizontal lines -->\n",
       "  <line x1=\"10\" y1=\"0\" x2=\"62\" y2=\"52\" style=\"stroke-width:2\" />\n",
       "  <line x1=\"10\" y1=\"7\" x2=\"62\" y2=\"59\" />\n",
       "  <line x1=\"10\" y1=\"14\" x2=\"62\" y2=\"66\" />\n",
       "  <line x1=\"10\" y1=\"21\" x2=\"62\" y2=\"73\" />\n",
       "  <line x1=\"10\" y1=\"29\" x2=\"62\" y2=\"81\" />\n",
       "  <line x1=\"10\" y1=\"36\" x2=\"62\" y2=\"88\" />\n",
       "  <line x1=\"10\" y1=\"43\" x2=\"62\" y2=\"95\" />\n",
       "  <line x1=\"10\" y1=\"50\" x2=\"62\" y2=\"102\" />\n",
       "  <line x1=\"10\" y1=\"58\" x2=\"62\" y2=\"110\" />\n",
       "  <line x1=\"10\" y1=\"65\" x2=\"62\" y2=\"117\" />\n",
       "  <line x1=\"10\" y1=\"72\" x2=\"62\" y2=\"124\" />\n",
       "  <line x1=\"10\" y1=\"79\" x2=\"62\" y2=\"131\" />\n",
       "  <line x1=\"10\" y1=\"87\" x2=\"62\" y2=\"139\" />\n",
       "  <line x1=\"10\" y1=\"94\" x2=\"62\" y2=\"146\" />\n",
       "  <line x1=\"10\" y1=\"101\" x2=\"62\" y2=\"153\" />\n",
       "  <line x1=\"10\" y1=\"109\" x2=\"62\" y2=\"161\" />\n",
       "  <line x1=\"10\" y1=\"116\" x2=\"62\" y2=\"168\" />\n",
       "  <line x1=\"10\" y1=\"120\" x2=\"62\" y2=\"172\" style=\"stroke-width:2\" />\n",
       "\n",
       "  <!-- Vertical lines -->\n",
       "  <line x1=\"10\" y1=\"0\" x2=\"10\" y2=\"120\" style=\"stroke-width:2\" />\n",
       "  <line x1=\"23\" y1=\"13\" x2=\"23\" y2=\"133\" />\n",
       "  <line x1=\"36\" y1=\"26\" x2=\"36\" y2=\"146\" />\n",
       "  <line x1=\"49\" y1=\"39\" x2=\"49\" y2=\"159\" />\n",
       "  <line x1=\"62\" y1=\"52\" x2=\"62\" y2=\"172\" style=\"stroke-width:2\" />\n",
       "\n",
       "  <!-- Colored Rectangle -->\n",
       "  <polygon points=\"10.000000,0.000000 62.028889,52.028889 62.028889,172.028889 10.000000,120.000000\" style=\"fill:#ECB172A0;stroke-width:0\"/>\n",
       "\n",
       "  <!-- Horizontal lines -->\n",
       "  <line x1=\"10\" y1=\"0\" x2=\"76\" y2=\"0\" style=\"stroke-width:2\" />\n",
       "  <line x1=\"23\" y1=\"13\" x2=\"90\" y2=\"13\" />\n",
       "  <line x1=\"36\" y1=\"26\" x2=\"103\" y2=\"26\" />\n",
       "  <line x1=\"49\" y1=\"39\" x2=\"116\" y2=\"39\" />\n",
       "  <line x1=\"62\" y1=\"52\" x2=\"129\" y2=\"52\" style=\"stroke-width:2\" />\n",
       "\n",
       "  <!-- Vertical lines -->\n",
       "  <line x1=\"10\" y1=\"0\" x2=\"62\" y2=\"52\" style=\"stroke-width:2\" />\n",
       "  <line x1=\"17\" y1=\"0\" x2=\"69\" y2=\"52\" />\n",
       "  <line x1=\"24\" y1=\"0\" x2=\"76\" y2=\"52\" />\n",
       "  <line x1=\"31\" y1=\"0\" x2=\"83\" y2=\"52\" />\n",
       "  <line x1=\"39\" y1=\"0\" x2=\"91\" y2=\"52\" />\n",
       "  <line x1=\"46\" y1=\"0\" x2=\"98\" y2=\"52\" />\n",
       "  <line x1=\"53\" y1=\"0\" x2=\"105\" y2=\"52\" />\n",
       "  <line x1=\"60\" y1=\"0\" x2=\"112\" y2=\"52\" />\n",
       "  <line x1=\"68\" y1=\"0\" x2=\"120\" y2=\"52\" />\n",
       "  <line x1=\"75\" y1=\"0\" x2=\"127\" y2=\"52\" />\n",
       "  <line x1=\"76\" y1=\"0\" x2=\"129\" y2=\"52\" style=\"stroke-width:2\" />\n",
       "\n",
       "  <!-- Colored Rectangle -->\n",
       "  <polygon points=\"10.000000,0.000000 76.978998,0.000000 129.007887,52.028889 62.028889,52.028889\" style=\"fill:#ECB172A0;stroke-width:0\"/>\n",
       "\n",
       "  <!-- Horizontal lines -->\n",
       "  <line x1=\"62\" y1=\"52\" x2=\"129\" y2=\"52\" style=\"stroke-width:2\" />\n",
       "  <line x1=\"62\" y1=\"59\" x2=\"129\" y2=\"59\" />\n",
       "  <line x1=\"62\" y1=\"66\" x2=\"129\" y2=\"66\" />\n",
       "  <line x1=\"62\" y1=\"73\" x2=\"129\" y2=\"73\" />\n",
       "  <line x1=\"62\" y1=\"81\" x2=\"129\" y2=\"81\" />\n",
       "  <line x1=\"62\" y1=\"88\" x2=\"129\" y2=\"88\" />\n",
       "  <line x1=\"62\" y1=\"95\" x2=\"129\" y2=\"95\" />\n",
       "  <line x1=\"62\" y1=\"102\" x2=\"129\" y2=\"102\" />\n",
       "  <line x1=\"62\" y1=\"110\" x2=\"129\" y2=\"110\" />\n",
       "  <line x1=\"62\" y1=\"117\" x2=\"129\" y2=\"117\" />\n",
       "  <line x1=\"62\" y1=\"124\" x2=\"129\" y2=\"124\" />\n",
       "  <line x1=\"62\" y1=\"131\" x2=\"129\" y2=\"131\" />\n",
       "  <line x1=\"62\" y1=\"139\" x2=\"129\" y2=\"139\" />\n",
       "  <line x1=\"62\" y1=\"146\" x2=\"129\" y2=\"146\" />\n",
       "  <line x1=\"62\" y1=\"153\" x2=\"129\" y2=\"153\" />\n",
       "  <line x1=\"62\" y1=\"161\" x2=\"129\" y2=\"161\" />\n",
       "  <line x1=\"62\" y1=\"168\" x2=\"129\" y2=\"168\" />\n",
       "  <line x1=\"62\" y1=\"172\" x2=\"129\" y2=\"172\" style=\"stroke-width:2\" />\n",
       "\n",
       "  <!-- Vertical lines -->\n",
       "  <line x1=\"62\" y1=\"52\" x2=\"62\" y2=\"172\" style=\"stroke-width:2\" />\n",
       "  <line x1=\"69\" y1=\"52\" x2=\"69\" y2=\"172\" />\n",
       "  <line x1=\"76\" y1=\"52\" x2=\"76\" y2=\"172\" />\n",
       "  <line x1=\"83\" y1=\"52\" x2=\"83\" y2=\"172\" />\n",
       "  <line x1=\"91\" y1=\"52\" x2=\"91\" y2=\"172\" />\n",
       "  <line x1=\"98\" y1=\"52\" x2=\"98\" y2=\"172\" />\n",
       "  <line x1=\"105\" y1=\"52\" x2=\"105\" y2=\"172\" />\n",
       "  <line x1=\"112\" y1=\"52\" x2=\"112\" y2=\"172\" />\n",
       "  <line x1=\"120\" y1=\"52\" x2=\"120\" y2=\"172\" />\n",
       "  <line x1=\"127\" y1=\"52\" x2=\"127\" y2=\"172\" />\n",
       "  <line x1=\"129\" y1=\"52\" x2=\"129\" y2=\"172\" style=\"stroke-width:2\" />\n",
       "\n",
       "  <!-- Colored Rectangle -->\n",
       "  <polygon points=\"62.028889,52.028889 129.007887,52.028889 129.007887,172.028889 62.028889,172.028889\" style=\"fill:#ECB172A0;stroke-width:0\"/>\n",
       "\n",
       "  <!-- Text -->\n",
       "  <text x=\"95.518388\" y=\"192.028889\" font-size=\"1.0rem\" font-weight=\"100\" text-anchor=\"middle\" >1382</text>\n",
       "  <text x=\"149.007887\" y=\"112.028889\" font-size=\"1.0rem\" font-weight=\"100\" text-anchor=\"middle\" transform=\"rotate(-90,149.007887,112.028889)\">2476</text>\n",
       "  <text x=\"26.014445\" y=\"166.014445\" font-size=\"1.0rem\" font-weight=\"100\" text-anchor=\"middle\" transform=\"rotate(45,26.014445,166.014445)\">1825</text>\n",
       "</svg>\n",
       "</td>\n",
       "</tr>\n",
       "</table></pre></li></ul></div></li><li class='xr-section-item'><input id='section-5ac8ec4e-bcb8-4595-84c6-7d233b4ca92f' class='xr-section-summary-in' type='checkbox'  checked><label for='section-5ac8ec4e-bcb8-4595-84c6-7d233b4ca92f' class='xr-section-summary' >Attributes: <span>(2)</span></label><div class='xr-section-inline-details'></div><div class='xr-section-details'><dl class='xr-attrs'><dt><span>CRS :</span></dt><dd>UTM Zone 12N, EPSG:32612</dd><dt><span>description :</span></dt><dd>SnowModel model run, SWE variable only</dd></dl></div></li></ul></div></div>"
      ],
      "text/plain": [
       "<xarray.Dataset>\n",
       "Dimensions:  (time: 1825, x: 1382, y: 2476)\n",
       "Coordinates:\n",
       "  * time     (time) datetime64[ns] 2014-10-01 2014-10-02 ... 2019-09-29\n",
       "  * x        (x) int64 487200 487300 487400 487500 ... 625100 625200 625300\n",
       "  * y        (y) int64 4690100 4690200 4690300 ... 4937400 4937500 4937600\n",
       "Data variables:\n",
       "    swe      (time, y, x) float32 dask.array<chunksize=(460, 150, 150), meta=np.ndarray>\n",
       "Attributes:\n",
       "    CRS:          UTM Zone 12N, EPSG:32612\n",
       "    description:  SnowModel model run, SWE variable only"
      ]
     },
     "execution_count": 20,
     "metadata": {},
     "output_type": "execute_result"
    }
   ],
   "source": [
    "zds"
   ]
  },
  {
   "cell_type": "code",
   "execution_count": 21,
   "metadata": {},
   "outputs": [
    {
     "data": {
      "text/plain": [
       "{'chunks': (460, 150, 150),\n",
       " 'compressor': Blosc(cname='lz4', clevel=5, shuffle=SHUFFLE, blocksize=0),\n",
       " 'filters': None,\n",
       " '_FillValue': nan,\n",
       " 'dtype': dtype('float32')}"
      ]
     },
     "execution_count": 21,
     "metadata": {},
     "output_type": "execute_result"
    }
   ],
   "source": [
    "zds.swe.encoding"
   ]
  },
  {
   "cell_type": "code",
   "execution_count": 22,
   "metadata": {},
   "outputs": [
    {
     "data": {
      "text/plain": [
       "{'long_name': 'Snow Water Equivalent',\n",
       " 'standard_name': 'lwe_thickness_of_surface_snow_amount',\n",
       " 'units': 'meters',\n",
       " 'valid_min': 0.0}"
      ]
     },
     "execution_count": 22,
     "metadata": {},
     "output_type": "execute_result"
    }
   ],
   "source": [
    "zds.swe.attrs"
   ]
  },
  {
   "cell_type": "markdown",
   "metadata": {},
   "source": [
    "### Changing the attributes using zarr directly, *after* creating the zarr dataset\n",
    "Use this code to modify global and variable attributes of existing zarr datasets."
   ]
  },
  {
   "cell_type": "code",
   "execution_count": 23,
   "metadata": {},
   "outputs": [],
   "source": [
    "# zarr.open_consolidated doesn't allow changing the metadata\n",
    "# zstore = zarr.open_consolidated(store=zarrstore, mode='r+')\n",
    "\n",
    "# zstore = zarr.open(store=zarrstore, mode='r+')"
   ]
  },
  {
   "cell_type": "code",
   "execution_count": 24,
   "metadata": {},
   "outputs": [],
   "source": [
    "# zstore.attrs['new_appended_attr'] = 'my appended attribute'\n",
    "# zstore.swe.attrs['swe_append_attr'] = 'my swe appended attribute'"
   ]
  },
  {
   "cell_type": "code",
   "execution_count": 25,
   "metadata": {},
   "outputs": [],
   "source": [
    "# Must pass the zarr store path, not the opened zstore\n",
    "# zarr.consolidate_metadata(zarrstore)"
   ]
  }
 ],
 "metadata": {
  "kernelspec": {
   "display_name": "Python [conda env:snowmodelaws]",
   "language": "python",
   "name": "conda-env-snowmodelaws-py"
  },
  "language_info": {
   "codemirror_mode": {
    "name": "ipython",
    "version": 3
   },
   "file_extension": ".py",
   "mimetype": "text/x-python",
   "name": "python",
   "nbconvert_exporter": "python",
   "pygments_lexer": "ipython3",
   "version": "3.6.10"
  }
 },
 "nbformat": 4,
 "nbformat_minor": 4
}
